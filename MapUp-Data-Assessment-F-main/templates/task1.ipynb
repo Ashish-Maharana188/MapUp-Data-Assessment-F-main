{
 "cells": [
  {
   "cell_type": "code",
   "execution_count": 2,
   "metadata": {},
   "outputs": [],
   "source": [
    "import pandas as pd\n",
    "import numpy as np"
   ]
  },
  {
   "cell_type": "code",
   "execution_count": 33,
   "metadata": {},
   "outputs": [],
   "source": [
    "df = pd.read_csv(\"C:/Users/Ashish Maharana/Downloads/MapUp-Data-Assessment-F-main/datasets/dataset-1.csv\")"
   ]
  },
  {
   "cell_type": "code",
   "execution_count": 4,
   "metadata": {},
   "outputs": [
    {
     "data": {
      "text/plain": [
       "Index(['id_1', 'id_2', 'route', 'moto', 'car', 'rv', 'bus', 'truck'], dtype='object')"
      ]
     },
     "execution_count": 4,
     "metadata": {},
     "output_type": "execute_result"
    }
   ],
   "source": [
    "df.columns"
   ]
  },
  {
   "cell_type": "code",
   "execution_count": 5,
   "metadata": {},
   "outputs": [
    {
     "name": "stdout",
     "output_type": "stream",
     "text": [
      "<class 'pandas.core.frame.DataFrame'>\n",
      "RangeIndex: 341 entries, 0 to 340\n",
      "Data columns (total 8 columns):\n",
      " #   Column  Non-Null Count  Dtype  \n",
      "---  ------  --------------  -----  \n",
      " 0   id_1    341 non-null    int64  \n",
      " 1   id_2    341 non-null    int64  \n",
      " 2   route   341 non-null    int64  \n",
      " 3   moto    341 non-null    float64\n",
      " 4   car     341 non-null    float64\n",
      " 5   rv      341 non-null    float64\n",
      " 6   bus     341 non-null    float64\n",
      " 7   truck   341 non-null    float64\n",
      "dtypes: float64(5), int64(3)\n",
      "memory usage: 21.4 KB\n"
     ]
    }
   ],
   "source": [
    "df.info()"
   ]
  },
  {
   "cell_type": "code",
   "execution_count": 6,
   "metadata": {},
   "outputs": [
    {
     "data": {
      "text/plain": [
       "id_1     0\n",
       "id_2     0\n",
       "route    0\n",
       "moto     0\n",
       "car      0\n",
       "rv       0\n",
       "bus      0\n",
       "truck    0\n",
       "dtype: int64"
      ]
     },
     "execution_count": 6,
     "metadata": {},
     "output_type": "execute_result"
    }
   ],
   "source": [
    "#total null values\n",
    "\n",
    "df.isnull().sum()"
   ]
  },
  {
   "cell_type": "code",
   "execution_count": 34,
   "metadata": {},
   "outputs": [],
   "source": [
    "def generate_car_matrix(data_frame):\n",
    "    result_matrix = df.pivot(index='id_1', columns='id_2', values='car')\n",
    "    result_matrix = result_matrix.fillna(0)\n",
    "    return result_matrix"
   ]
  },
  {
   "cell_type": "code",
   "execution_count": 35,
   "metadata": {},
   "outputs": [
    {
     "name": "stdout",
     "output_type": "stream",
     "text": [
      "id_2    801    802    803    804    805    806    807    808    809    821  \\\n",
      "id_1                                                                         \n",
      "801    0.00   2.80   6.00   7.70  11.70  13.40  16.90  19.60  21.00  23.52   \n",
      "802    2.80   0.00   3.40   5.20   9.20  10.90  14.30  17.10  18.50  20.92   \n",
      "803    6.00   3.40   0.00   2.00   6.00   7.70  11.10  13.90  15.30  17.72   \n",
      "804    7.70   5.20   2.00   0.00   4.40   6.10   9.50  12.30  13.70  16.12   \n",
      "805   11.70   9.20   6.00   4.40   0.00   2.00   5.40   8.20   9.60  12.02   \n",
      "806   13.40  10.90   7.70   6.10   2.00   0.00   3.80   6.60   8.00  10.42   \n",
      "807   16.90  14.30  11.10   9.50   5.40   3.80   0.00   2.90   4.30   6.82   \n",
      "808   19.60  17.10  13.90  12.30   8.20   6.60   2.90   0.00   1.70   4.12   \n",
      "809   21.00  18.50  15.30  13.70   9.60   8.00   4.30   1.70   0.00   2.92   \n",
      "821   23.52  20.92  17.72  16.12  12.02  10.42   6.82   4.12   2.92   0.00   \n",
      "822   24.67  22.07  18.87  17.27  13.17  11.57   7.97   5.27   4.07   1.80   \n",
      "823   26.53  23.93  20.73  19.13  15.03  13.43   9.83   7.13   5.93   3.67   \n",
      "824   27.92  25.32  22.12  20.52  16.42   7.80  11.22   8.52   7.32   5.06   \n",
      "825   29.08  26.48  23.28  21.68  17.58  15.98  12.38   9.68   8.48   6.22   \n",
      "826   30.87  28.27  25.07  23.47  19.37  17.77  14.17  11.47  10.27   8.01   \n",
      "827   32.53  29.93  26.73  25.13  21.03  19.43  15.83  13.13  11.93   9.43   \n",
      "829   36.32  33.72  30.52  28.92  24.82  23.22  19.62  16.92  15.72  13.26   \n",
      "830   38.27  35.67  32.47  30.87  26.77  25.17  21.57  18.87  17.67  15.17   \n",
      "831   39.24  36.64  33.44  31.84  27.74  26.14  22.54  19.84  18.64  16.15   \n",
      "\n",
      "id_2    822    823    824    825    826    827    829    830    831  \n",
      "id_1                                                                 \n",
      "801   24.67  26.53  27.92  29.08  30.87  32.53  36.32  38.27  39.24  \n",
      "802   22.07  23.93  25.32  26.48  28.27  29.93  33.72  35.67  36.64  \n",
      "803   18.87  20.73  22.12  23.28  25.07  26.73  30.52  32.47  33.44  \n",
      "804   17.27  19.13  20.52  21.68  23.47  25.13  28.92  30.87  31.84  \n",
      "805   13.17  15.03  16.42  17.58  19.37  21.03  24.82  26.77  27.74  \n",
      "806   11.57  13.43  14.82  15.98  17.77  19.43  23.22  25.17  26.14  \n",
      "807    7.97   9.83  11.22  12.38  14.17  15.83  19.62  21.57  22.54  \n",
      "808    5.27   7.13   8.52   9.68  11.47  13.13  16.92  18.87  19.84  \n",
      "809    4.07   5.93   7.32   8.48  10.27  11.93  15.72  17.67  18.64  \n",
      "821    1.80   3.67   5.06   6.22   8.01   9.43  13.26  15.17  16.15  \n",
      "822    0.00   2.21   3.60   4.76   6.55   8.00  11.81  13.74  14.68  \n",
      "823    2.21   0.00   1.79   2.94   4.74   6.15  10.00  11.89  12.87  \n",
      "824    3.60   1.79   0.00   1.71   3.50   4.92   8.77  10.66  11.64  \n",
      "825    4.76   2.94   1.71   0.00   2.20   3.65   7.46   9.35  10.33  \n",
      "826    6.55   4.74   3.50   2.20   0.00   2.05   5.81   7.71   8.69  \n",
      "827    8.00   6.15   4.92   3.65   2.05   0.00   4.14   6.06   7.04  \n",
      "829   11.81  10.00  21.40   7.46   5.81   4.14   0.00   2.38   3.36  \n",
      "830   13.74  11.89  10.66   0.00   7.71   6.06   2.38   0.00   1.39  \n",
      "831   14.68  12.87  11.64  10.33   8.69   7.04   3.36   1.39   0.00  \n"
     ]
    }
   ],
   "source": [
    "#call generate_car_matrix function\n",
    "\n",
    "result_matrix = generate_car_matrix(df)\n",
    "print(result_matrix)"
   ]
  },
  {
   "cell_type": "code",
   "execution_count": 9,
   "metadata": {},
   "outputs": [
    {
     "name": "stdout",
     "output_type": "stream",
     "text": [
      "{'high': 56, 'low': 196, 'medium': 89}\n"
     ]
    }
   ],
   "source": [
    "def get_type_count(df):\n",
    "    condition_values = [\n",
    "        (df['car'] <= 15),\n",
    "        (df['car'] > 15) & (df['car'] <= 25),\n",
    "        (df['car'] > 25)\n",
    "    ]\n",
    "    choice_values = ['low', 'medium', 'high']\n",
    "    df['car_type'] = pd.Series(np.select(condition_values, choice_values, default='unknown'), dtype='category')\n",
    "    car_type_counts = df['car_type'].value_counts().to_dict()\n",
    "    car_type_counts = dict(sorted(car_type_counts.items()))\n",
    "    return car_type_counts\n",
    "\n",
    "car_type_counts = get_type_count(df)\n",
    "print(car_type_counts)"
   ]
  },
  {
   "cell_type": "code",
   "execution_count": 10,
   "metadata": {},
   "outputs": [
    {
     "name": "stdout",
     "output_type": "stream",
     "text": [
      "<pandas.core.groupby.generic.SeriesGroupBy object at 0x0000023D10653D90>\n"
     ]
    }
   ],
   "source": [
    "ads = df.groupby('route')['truck']\n",
    "print(ads)"
   ]
  },
  {
   "cell_type": "code",
   "execution_count": 12,
   "metadata": {},
   "outputs": [
    {
     "name": "stdout",
     "output_type": "stream",
     "text": [
      "id_2   801   802   803   804   805   806   807   808   809   821   822   823  \\\n",
      "id_1                                                                           \n",
      "801    0.0   3.5   7.5   9.6  14.6  16.8  21.1  24.5  15.8  17.6  18.5  19.9   \n",
      "802    3.5   0.0   4.2   6.5  11.5  13.6  17.9  21.4  23.1  15.7  16.6  17.9   \n",
      "803    7.5   4.2   0.0   2.5   7.5   9.6  13.9  17.4  19.1  22.2  23.6  15.5   \n",
      "804    9.6   6.5   2.5   0.0   5.5   7.6  11.9  15.4  17.1  20.2  21.6  23.9   \n",
      "805   14.6  11.5   7.5   5.5   0.0   2.5   6.8  10.2  12.0  15.0  16.5  18.8   \n",
      "806   16.8  13.6   9.6   7.6   2.5   0.0   4.8   8.2  10.0  13.0  14.5  16.8   \n",
      "807   21.1  17.9  13.9  11.9   6.8   4.8   0.0   3.6   5.4   8.5  10.0  12.3   \n",
      "808   24.5  21.4  17.4  15.4  10.2   8.2   3.6   0.0   2.1   5.2   6.6   8.9   \n",
      "809   15.8  23.1  19.1  17.1  12.0  10.0   5.4   2.1   0.0   3.6   5.1   7.4   \n",
      "821   17.6  15.7  22.2  20.2  15.0  13.0   8.5   5.2   3.6   0.0   2.2   4.6   \n",
      "822   18.5  16.6  23.6  21.6  16.5  14.5  10.0   6.6   5.1   2.2   0.0   2.8   \n",
      "823   19.9  17.9  15.5  23.9  18.8  16.8  12.3   8.9   7.4   4.6   2.8   0.0   \n",
      "824   20.9  19.0  16.6  15.4  20.5   9.8  14.0  10.6   9.2   6.3   4.5   2.2   \n",
      "825   21.8  19.9  17.5  16.3  22.0  20.0  15.5  12.1  10.6   7.8   5.9   3.7   \n",
      "826   23.2  21.2  18.8  17.6  24.2  22.2  17.7  14.3  12.8  10.0   8.2   5.9   \n",
      "827   24.4  22.4  20.0  18.8  15.8  24.3  19.8  16.4  14.9  11.8  10.0   7.7   \n",
      "829   27.2  25.3  22.9  21.7  18.6  17.4  24.5  21.2  19.7  16.6  14.8  12.5   \n",
      "830   28.7  26.8  24.4  23.2  20.1  18.9  16.2  23.6  22.1  19.0  17.2  14.9   \n",
      "831   29.4  27.5  25.1  23.9  20.8  19.6  16.9  24.8  23.3  20.2  18.4  16.1   \n",
      "\n",
      "id_2   824   825   826   827   829   830   831  \n",
      "id_1                                            \n",
      "801   20.9  21.8  23.2  24.4  27.2  28.7  29.4  \n",
      "802   19.0  19.9  21.2  22.4  25.3  26.8  27.5  \n",
      "803   16.6  17.5  18.8  20.0  22.9  24.4  25.1  \n",
      "804   15.4  16.3  17.6  18.8  21.7  23.2  23.9  \n",
      "805   20.5  22.0  24.2  15.8  18.6  20.1  20.8  \n",
      "806   18.5  20.0  22.2  24.3  17.4  18.9  19.6  \n",
      "807   14.0  15.5  17.7  19.8  24.5  16.2  16.9  \n",
      "808   10.6  12.1  14.3  16.4  21.2  23.6  24.8  \n",
      "809    9.2  10.6  12.8  14.9  19.7  22.1  23.3  \n",
      "821    6.3   7.8  10.0  11.8  16.6  19.0  20.2  \n",
      "822    4.5   5.9   8.2  10.0  14.8  17.2  18.4  \n",
      "823    2.2   3.7   5.9   7.7  12.5  14.9  16.1  \n",
      "824    0.0   2.1   4.4   6.2  11.0  13.3  14.6  \n",
      "825    2.1   0.0   2.8   4.6   9.3  11.7  12.9  \n",
      "826    4.4   2.8   0.0   2.6   7.3   9.6  10.9  \n",
      "827    6.2   4.6   2.6   0.0   5.2   7.6   8.8  \n",
      "829   16.0   9.3   7.3   5.2   0.0   3.0   4.2  \n",
      "830   13.3   0.0   9.6   7.6   3.0   0.0   1.7  \n",
      "831   14.6  12.9  10.9   8.8   4.2   1.7   0.0  \n"
     ]
    }
   ],
   "source": [
    "\n",
    "def multiply_matrix(matrix) -> pd.DataFrame:\n",
    "    \"\"\"\n",
    "    Multiplies matrix values with custom conditions.\n",
    "\n",
    "    Args:\n",
    "        matrix (pandas.DataFrame)\n",
    "\n",
    "    Returns:\n",
    "    pandas.DataFrame: Modified matrix with values multiplied based on custom conditions.\n",
    "    \"\"\"\n",
    "    # Write your logic here\n",
    "    modified_matrix = matrix.copy()\n",
    "    mask_20 = modified_matrix > 20\n",
    "    modified_matrix[mask_20] *= 0.75\n",
    "    modified_matrix[~mask_20] *= 1.25\n",
    "\n",
    "    modified_matrix = modified_matrix.round(1)\n",
    "\n",
    "    return modified_matrix\n",
    "\n",
    "\n",
    "modified_matrix = multiply_matrix(result_matrix)\n",
    "print(modified_matrix)"
   ]
  },
  {
   "cell_type": "code",
   "execution_count": 4,
   "metadata": {},
   "outputs": [],
   "source": [
    "df2 = pd.read_csv(\"C:/Users/Ashish Maharana/Downloads/MapUp-Data-Assessment-F-main/datasets/dataset-3.csv\")"
   ]
  },
  {
   "cell_type": "code",
   "execution_count": 25,
   "metadata": {},
   "outputs": [
    {
     "name": "stdout",
     "output_type": "stream",
     "text": [
      "<class 'pandas.core.frame.DataFrame'>\n",
      "RangeIndex: 44 entries, 0 to 43\n",
      "Data columns (total 3 columns):\n",
      " #   Column    Non-Null Count  Dtype  \n",
      "---  ------    --------------  -----  \n",
      " 0   id_start  44 non-null     int64  \n",
      " 1   id_end    44 non-null     int64  \n",
      " 2   distance  44 non-null     float64\n",
      "dtypes: float64(1), int64(2)\n",
      "memory usage: 1.2 KB\n"
     ]
    }
   ],
   "source": [
    "df2.info()"
   ]
  },
  {
   "cell_type": "code",
   "execution_count": 31,
   "metadata": {},
   "outputs": [
    {
     "ename": "KeyError",
     "evalue": "\"None of [Index(['1001402', '1001404', '1001406', '1001400', '1001408', '1001410',\\n       '1001412'],\\n      dtype='object')] are in the [index]\"",
     "output_type": "error",
     "traceback": [
      "\u001b[1;31m---------------------------------------------------------------------------\u001b[0m",
      "\u001b[1;31mKeyError\u001b[0m                                  Traceback (most recent call last)",
      "\u001b[1;32mc:\\Users\\Ashish Maharana\\Downloads\\MapUp-Data-Assessment-F-main\\templates\\task1.ipynb Cell 13\u001b[0m line \u001b[0;36m3\n\u001b[0;32m     <a href='vscode-notebook-cell:/c%3A/Users/Ashish%20Maharana/Downloads/MapUp-Data-Assessment-F-main/templates/task1.ipynb#X14sZmlsZQ%3D%3D?line=33'>34</a>\u001b[0m \u001b[39m# Reorder the rows and columns to match the desired output\u001b[39;00m\n\u001b[0;32m     <a href='vscode-notebook-cell:/c%3A/Users/Ashish%20Maharana/Downloads/MapUp-Data-Assessment-F-main/templates/task1.ipynb#X14sZmlsZQ%3D%3D?line=34'>35</a>\u001b[0m order \u001b[39m=\u001b[39m [\u001b[39m'\u001b[39m\u001b[39m1001402\u001b[39m\u001b[39m'\u001b[39m, \u001b[39m'\u001b[39m\u001b[39m1001404\u001b[39m\u001b[39m'\u001b[39m, \u001b[39m'\u001b[39m\u001b[39m1001406\u001b[39m\u001b[39m'\u001b[39m, \u001b[39m'\u001b[39m\u001b[39m1001400\u001b[39m\u001b[39m'\u001b[39m, \u001b[39m'\u001b[39m\u001b[39m1001408\u001b[39m\u001b[39m'\u001b[39m, \u001b[39m'\u001b[39m\u001b[39m1001410\u001b[39m\u001b[39m'\u001b[39m, \u001b[39m'\u001b[39m\u001b[39m1001412\u001b[39m\u001b[39m'\u001b[39m]\n\u001b[1;32m---> <a href='vscode-notebook-cell:/c%3A/Users/Ashish%20Maharana/Downloads/MapUp-Data-Assessment-F-main/templates/task1.ipynb#X14sZmlsZQ%3D%3D?line=35'>36</a>\u001b[0m result_df \u001b[39m=\u001b[39m result_df\u001b[39m.\u001b[39;49mloc[order, order]\n\u001b[0;32m     <a href='vscode-notebook-cell:/c%3A/Users/Ashish%20Maharana/Downloads/MapUp-Data-Assessment-F-main/templates/task1.ipynb#X14sZmlsZQ%3D%3D?line=37'>38</a>\u001b[0m \u001b[39mprint\u001b[39m(result_df)\n",
      "File \u001b[1;32mc:\\ALL\\Software\\CODE\\Python\\Lib\\site-packages\\pandas\\core\\indexing.py:1147\u001b[0m, in \u001b[0;36m_LocationIndexer.__getitem__\u001b[1;34m(self, key)\u001b[0m\n\u001b[0;32m   1145\u001b[0m     \u001b[39mif\u001b[39;00m \u001b[39mself\u001b[39m\u001b[39m.\u001b[39m_is_scalar_access(key):\n\u001b[0;32m   1146\u001b[0m         \u001b[39mreturn\u001b[39;00m \u001b[39mself\u001b[39m\u001b[39m.\u001b[39mobj\u001b[39m.\u001b[39m_get_value(\u001b[39m*\u001b[39mkey, takeable\u001b[39m=\u001b[39m\u001b[39mself\u001b[39m\u001b[39m.\u001b[39m_takeable)\n\u001b[1;32m-> 1147\u001b[0m     \u001b[39mreturn\u001b[39;00m \u001b[39mself\u001b[39;49m\u001b[39m.\u001b[39;49m_getitem_tuple(key)\n\u001b[0;32m   1148\u001b[0m \u001b[39melse\u001b[39;00m:\n\u001b[0;32m   1149\u001b[0m     \u001b[39m# we by definition only have the 0th axis\u001b[39;00m\n\u001b[0;32m   1150\u001b[0m     axis \u001b[39m=\u001b[39m \u001b[39mself\u001b[39m\u001b[39m.\u001b[39maxis \u001b[39mor\u001b[39;00m \u001b[39m0\u001b[39m\n",
      "File \u001b[1;32mc:\\ALL\\Software\\CODE\\Python\\Lib\\site-packages\\pandas\\core\\indexing.py:1337\u001b[0m, in \u001b[0;36m_LocIndexer._getitem_tuple\u001b[1;34m(self, tup)\u001b[0m\n\u001b[0;32m   1335\u001b[0m \u001b[39m# ugly hack for GH #836\u001b[39;00m\n\u001b[0;32m   1336\u001b[0m \u001b[39mif\u001b[39;00m \u001b[39mself\u001b[39m\u001b[39m.\u001b[39m_multi_take_opportunity(tup):\n\u001b[1;32m-> 1337\u001b[0m     \u001b[39mreturn\u001b[39;00m \u001b[39mself\u001b[39;49m\u001b[39m.\u001b[39;49m_multi_take(tup)\n\u001b[0;32m   1339\u001b[0m \u001b[39mreturn\u001b[39;00m \u001b[39mself\u001b[39m\u001b[39m.\u001b[39m_getitem_tuple_same_dim(tup)\n",
      "File \u001b[1;32mc:\\ALL\\Software\\CODE\\Python\\Lib\\site-packages\\pandas\\core\\indexing.py:1288\u001b[0m, in \u001b[0;36m_LocIndexer._multi_take\u001b[1;34m(self, tup)\u001b[0m\n\u001b[0;32m   1272\u001b[0m \u001b[39m\u001b[39m\u001b[39m\"\"\"\u001b[39;00m\n\u001b[0;32m   1273\u001b[0m \u001b[39mCreate the indexers for the passed tuple of keys, and\u001b[39;00m\n\u001b[0;32m   1274\u001b[0m \u001b[39mexecutes the take operation. This allows the take operation to be\u001b[39;00m\n\u001b[1;32m   (...)\u001b[0m\n\u001b[0;32m   1285\u001b[0m \u001b[39mvalues: same type as the object being indexed\u001b[39;00m\n\u001b[0;32m   1286\u001b[0m \u001b[39m\"\"\"\u001b[39;00m\n\u001b[0;32m   1287\u001b[0m \u001b[39m# GH 836\u001b[39;00m\n\u001b[1;32m-> 1288\u001b[0m d \u001b[39m=\u001b[39m {\n\u001b[0;32m   1289\u001b[0m     axis: \u001b[39mself\u001b[39;49m\u001b[39m.\u001b[39;49m_get_listlike_indexer(key, axis)\n\u001b[0;32m   1290\u001b[0m     \u001b[39mfor\u001b[39;49;00m (key, axis) \u001b[39min\u001b[39;49;00m \u001b[39mzip\u001b[39;49m(tup, \u001b[39mself\u001b[39;49m\u001b[39m.\u001b[39;49mobj\u001b[39m.\u001b[39;49m_AXIS_ORDERS)\n\u001b[0;32m   1291\u001b[0m }\n\u001b[0;32m   1292\u001b[0m \u001b[39mreturn\u001b[39;00m \u001b[39mself\u001b[39m\u001b[39m.\u001b[39mobj\u001b[39m.\u001b[39m_reindex_with_indexers(d, copy\u001b[39m=\u001b[39m\u001b[39mTrue\u001b[39;00m, allow_dups\u001b[39m=\u001b[39m\u001b[39mTrue\u001b[39;00m)\n",
      "File \u001b[1;32mc:\\ALL\\Software\\CODE\\Python\\Lib\\site-packages\\pandas\\core\\indexing.py:1289\u001b[0m, in \u001b[0;36m<dictcomp>\u001b[1;34m(.0)\u001b[0m\n\u001b[0;32m   1272\u001b[0m \u001b[39m\u001b[39m\u001b[39m\"\"\"\u001b[39;00m\n\u001b[0;32m   1273\u001b[0m \u001b[39mCreate the indexers for the passed tuple of keys, and\u001b[39;00m\n\u001b[0;32m   1274\u001b[0m \u001b[39mexecutes the take operation. This allows the take operation to be\u001b[39;00m\n\u001b[1;32m   (...)\u001b[0m\n\u001b[0;32m   1285\u001b[0m \u001b[39mvalues: same type as the object being indexed\u001b[39;00m\n\u001b[0;32m   1286\u001b[0m \u001b[39m\"\"\"\u001b[39;00m\n\u001b[0;32m   1287\u001b[0m \u001b[39m# GH 836\u001b[39;00m\n\u001b[0;32m   1288\u001b[0m d \u001b[39m=\u001b[39m {\n\u001b[1;32m-> 1289\u001b[0m     axis: \u001b[39mself\u001b[39;49m\u001b[39m.\u001b[39;49m_get_listlike_indexer(key, axis)\n\u001b[0;32m   1290\u001b[0m     \u001b[39mfor\u001b[39;00m (key, axis) \u001b[39min\u001b[39;00m \u001b[39mzip\u001b[39m(tup, \u001b[39mself\u001b[39m\u001b[39m.\u001b[39mobj\u001b[39m.\u001b[39m_AXIS_ORDERS)\n\u001b[0;32m   1291\u001b[0m }\n\u001b[0;32m   1292\u001b[0m \u001b[39mreturn\u001b[39;00m \u001b[39mself\u001b[39m\u001b[39m.\u001b[39mobj\u001b[39m.\u001b[39m_reindex_with_indexers(d, copy\u001b[39m=\u001b[39m\u001b[39mTrue\u001b[39;00m, allow_dups\u001b[39m=\u001b[39m\u001b[39mTrue\u001b[39;00m)\n",
      "File \u001b[1;32mc:\\ALL\\Software\\CODE\\Python\\Lib\\site-packages\\pandas\\core\\indexing.py:1520\u001b[0m, in \u001b[0;36m_LocIndexer._get_listlike_indexer\u001b[1;34m(self, key, axis)\u001b[0m\n\u001b[0;32m   1517\u001b[0m ax \u001b[39m=\u001b[39m \u001b[39mself\u001b[39m\u001b[39m.\u001b[39mobj\u001b[39m.\u001b[39m_get_axis(axis)\n\u001b[0;32m   1518\u001b[0m axis_name \u001b[39m=\u001b[39m \u001b[39mself\u001b[39m\u001b[39m.\u001b[39mobj\u001b[39m.\u001b[39m_get_axis_name(axis)\n\u001b[1;32m-> 1520\u001b[0m keyarr, indexer \u001b[39m=\u001b[39m ax\u001b[39m.\u001b[39;49m_get_indexer_strict(key, axis_name)\n\u001b[0;32m   1522\u001b[0m \u001b[39mreturn\u001b[39;00m keyarr, indexer\n",
      "File \u001b[1;32mc:\\ALL\\Software\\CODE\\Python\\Lib\\site-packages\\pandas\\core\\indexes\\base.py:6114\u001b[0m, in \u001b[0;36mIndex._get_indexer_strict\u001b[1;34m(self, key, axis_name)\u001b[0m\n\u001b[0;32m   6111\u001b[0m \u001b[39melse\u001b[39;00m:\n\u001b[0;32m   6112\u001b[0m     keyarr, indexer, new_indexer \u001b[39m=\u001b[39m \u001b[39mself\u001b[39m\u001b[39m.\u001b[39m_reindex_non_unique(keyarr)\n\u001b[1;32m-> 6114\u001b[0m \u001b[39mself\u001b[39;49m\u001b[39m.\u001b[39;49m_raise_if_missing(keyarr, indexer, axis_name)\n\u001b[0;32m   6116\u001b[0m keyarr \u001b[39m=\u001b[39m \u001b[39mself\u001b[39m\u001b[39m.\u001b[39mtake(indexer)\n\u001b[0;32m   6117\u001b[0m \u001b[39mif\u001b[39;00m \u001b[39misinstance\u001b[39m(key, Index):\n\u001b[0;32m   6118\u001b[0m     \u001b[39m# GH 42790 - Preserve name from an Index\u001b[39;00m\n",
      "File \u001b[1;32mc:\\ALL\\Software\\CODE\\Python\\Lib\\site-packages\\pandas\\core\\indexes\\base.py:6175\u001b[0m, in \u001b[0;36mIndex._raise_if_missing\u001b[1;34m(self, key, indexer, axis_name)\u001b[0m\n\u001b[0;32m   6173\u001b[0m     \u001b[39mif\u001b[39;00m use_interval_msg:\n\u001b[0;32m   6174\u001b[0m         key \u001b[39m=\u001b[39m \u001b[39mlist\u001b[39m(key)\n\u001b[1;32m-> 6175\u001b[0m     \u001b[39mraise\u001b[39;00m \u001b[39mKeyError\u001b[39;00m(\u001b[39mf\u001b[39m\u001b[39m\"\u001b[39m\u001b[39mNone of [\u001b[39m\u001b[39m{\u001b[39;00mkey\u001b[39m}\u001b[39;00m\u001b[39m] are in the [\u001b[39m\u001b[39m{\u001b[39;00maxis_name\u001b[39m}\u001b[39;00m\u001b[39m]\u001b[39m\u001b[39m\"\u001b[39m)\n\u001b[0;32m   6177\u001b[0m not_found \u001b[39m=\u001b[39m \u001b[39mlist\u001b[39m(ensure_index(key)[missing_mask\u001b[39m.\u001b[39mnonzero()[\u001b[39m0\u001b[39m]]\u001b[39m.\u001b[39munique())\n\u001b[0;32m   6178\u001b[0m \u001b[39mraise\u001b[39;00m \u001b[39mKeyError\u001b[39;00m(\u001b[39mf\u001b[39m\u001b[39m\"\u001b[39m\u001b[39m{\u001b[39;00mnot_found\u001b[39m}\u001b[39;00m\u001b[39m not in index\u001b[39m\u001b[39m\"\u001b[39m)\n",
      "\u001b[1;31mKeyError\u001b[0m: \"None of [Index(['1001402', '1001404', '1001406', '1001400', '1001408', '1001410',\\n       '1001412'],\\n      dtype='object')] are in the [index]\""
     ]
    }
   ],
   "source": [
    "import pandas as pd\n",
    "\n",
    "def calculate_distance_matrix(df) -> pd.DataFrame:\n",
    "    \"\"\"\n",
    "    Calculate a distance matrix based on the dataframe, df.\n",
    "\n",
    "    Args:\n",
    "        df (pandas.DataFrame): Input DataFrame with distance information.\n",
    "\n",
    "    Returns:\n",
    "        pandas.DataFrame: Distance matrix.\n",
    "    \"\"\"\n",
    "    # Group by 'id_start' and 'id_end' to aggregate distances\n",
    "    grouped_df = df.groupby(['id_start', 'id_end'], as_index=False)['distance'].sum()\n",
    "\n",
    "    # Create a copy of the grouped DataFrame and set the index to 'id_start' and 'id_end'\n",
    "    result_matrix = grouped_df.copy()\n",
    "    result_matrix.set_index(['id_start', 'id_end'], inplace=True)\n",
    "\n",
    "    # Unstack the DataFrame to create the distance matrix\n",
    "    result_matrix = result_matrix['distance'].unstack(fill_value=0)\n",
    "\n",
    "    # Ensure the matrix is symmetric\n",
    "    result_matrix = result_matrix.add(result_matrix.T, fill_value=0)\n",
    "\n",
    "    return result_matrix\n",
    "\n",
    "# Assuming df is your DataFrame loaded from dataset-3.csv\n",
    "# df = pd.read_csv('dataset-3.csv')\n",
    "\n",
    "# Calculate the distance matrix using the function\n",
    "result_df = calculate_distance_matrix(df2)\n",
    "\n",
    "\n",
    "print(result_df)\n"
   ]
  },
  {
   "cell_type": "code",
   "execution_count": null,
   "metadata": {},
   "outputs": [],
   "source": []
  }
 ],
 "metadata": {
  "kernelspec": {
   "display_name": "Python 3",
   "language": "python",
   "name": "python3"
  },
  "language_info": {
   "codemirror_mode": {
    "name": "ipython",
    "version": 3
   },
   "file_extension": ".py",
   "mimetype": "text/x-python",
   "name": "python",
   "nbconvert_exporter": "python",
   "pygments_lexer": "ipython3",
   "version": "3.11.5"
  },
  "orig_nbformat": 4
 },
 "nbformat": 4,
 "nbformat_minor": 2
}
